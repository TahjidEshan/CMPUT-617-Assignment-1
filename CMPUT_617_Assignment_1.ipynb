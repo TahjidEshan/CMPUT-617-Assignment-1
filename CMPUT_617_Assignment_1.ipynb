{
  "nbformat": 4,
  "nbformat_minor": 0,
  "metadata": {
    "colab": {
      "name": "CMPUT 617 Assignment 1",
      "version": "0.3.2",
      "provenance": [],
      "collapsed_sections": [],
      "include_colab_link": true
    },
    "kernelspec": {
      "name": "python3",
      "display_name": "Python 3"
    }
  },
  "cells": [
    {
      "cell_type": "markdown",
      "metadata": {
        "id": "view-in-github",
        "colab_type": "text"
      },
      "source": [
        "<a href=\"https://colab.research.google.com/github/TahjidEshan/CMPUT-617-Assignment-1/blob/master/CMPUT_617_Assignment_1.ipynb\" target=\"_parent\"><img src=\"https://colab.research.google.com/assets/colab-badge.svg\" alt=\"Open In Colab\"/></a>"
      ]
    },
    {
      "cell_type": "code",
      "metadata": {
        "id": "hSJHLxxHjxxL",
        "colab_type": "code",
        "outputId": "f2053c8c-3bdb-46d7-ec13-9a4cf865c9fd",
        "colab": {
          "base_uri": "https://localhost:8080/",
          "height": 122
        }
      },
      "source": [
        "import torch\n",
        "\n",
        "from google.colab import drive\n",
        "drive.mount('/content/drive', force_remount=True)"
      ],
      "execution_count": 2,
      "outputs": [
        {
          "output_type": "stream",
          "text": [
            "Go to this URL in a browser: https://accounts.google.com/o/oauth2/auth?client_id=947318989803-6bn6qk8qdgf4n4g3pfee6491hc0brc4i.apps.googleusercontent.com&redirect_uri=urn%3Aietf%3Awg%3Aoauth%3A2.0%3Aoob&scope=email%20https%3A%2F%2Fwww.googleapis.com%2Fauth%2Fdocs.test%20https%3A%2F%2Fwww.googleapis.com%2Fauth%2Fdrive%20https%3A%2F%2Fwww.googleapis.com%2Fauth%2Fdrive.photos.readonly%20https%3A%2F%2Fwww.googleapis.com%2Fauth%2Fpeopleapi.readonly&response_type=code\n",
            "\n",
            "Enter your authorization code:\n",
            "··········\n",
            "Mounted at /content/drive\n"
          ],
          "name": "stdout"
        }
      ]
    },
    {
      "cell_type": "code",
      "metadata": {
        "id": "qDoR7fDikxv_",
        "colab_type": "code",
        "outputId": "28b1bbf4-bf08-4ed1-b277-48da75f5c1c4",
        "colab": {
          "base_uri": "https://localhost:8080/",
          "height": 1000
        }
      },
      "source": [
        "from torch.utils.data import random_split\n",
        "import torchvision\n",
        "\n",
        "#!ls \"/content/drive/My Drive/Fall 19/617/Assignment 1/Pictures\"  #Checking google drive access\n",
        "\n",
        "!unzip \"/content/drive/My Drive/Fall 19/617/Assignment 1/Pictures.zip\" -d \"/content/drive/My Drive/Fall 19/Assignment 1/\"\n",
        "\n"
      ],
      "execution_count": 4,
      "outputs": [
        {
          "output_type": "stream",
          "text": [
            "Archive:  /content/drive/My Drive/Fall 19/617/Assignment 1/Pictures.zip\n",
            "  inflating: /content/drive/My Drive/Fall 19/Assignment 1/Pictures/1_pos.tif  \n",
            "  inflating: /content/drive/My Drive/Fall 19/Assignment 1/Pictures/10_neg.tif  \n",
            "  inflating: /content/drive/My Drive/Fall 19/Assignment 1/Pictures/100_neg.tif  \n",
            "  inflating: /content/drive/My Drive/Fall 19/Assignment 1/Pictures/101_neg.tif  \n",
            "  inflating: /content/drive/My Drive/Fall 19/Assignment 1/Pictures/102_neg.tif  \n",
            "  inflating: /content/drive/My Drive/Fall 19/Assignment 1/Pictures/103_neg.tif  \n",
            "  inflating: /content/drive/My Drive/Fall 19/Assignment 1/Pictures/104_neg.tif  \n",
            "  inflating: /content/drive/My Drive/Fall 19/Assignment 1/Pictures/105_neg.tif  \n",
            "  inflating: /content/drive/My Drive/Fall 19/Assignment 1/Pictures/106_neg.tif  \n",
            "  inflating: /content/drive/My Drive/Fall 19/Assignment 1/Pictures/107_neg.tif  \n",
            "  inflating: /content/drive/My Drive/Fall 19/Assignment 1/Pictures/108_neg.tif  \n",
            "  inflating: /content/drive/My Drive/Fall 19/Assignment 1/Pictures/109_pos.tif  \n",
            "  inflating: /content/drive/My Drive/Fall 19/Assignment 1/Pictures/11_pos.tif  \n",
            "  inflating: /content/drive/My Drive/Fall 19/Assignment 1/Pictures/110_neg.tif  \n",
            "  inflating: /content/drive/My Drive/Fall 19/Assignment 1/Pictures/111_neg.tif  \n",
            "  inflating: /content/drive/My Drive/Fall 19/Assignment 1/Pictures/112_neg.tif  \n",
            "  inflating: /content/drive/My Drive/Fall 19/Assignment 1/Pictures/113_pos.tif  \n",
            "  inflating: /content/drive/My Drive/Fall 19/Assignment 1/Pictures/114_pos.tif  \n",
            "  inflating: /content/drive/My Drive/Fall 19/Assignment 1/Pictures/115_neg.tif  \n",
            "  inflating: /content/drive/My Drive/Fall 19/Assignment 1/Pictures/116_neg.tif  \n",
            "  inflating: /content/drive/My Drive/Fall 19/Assignment 1/Pictures/12_pos.tif  \n",
            "  inflating: /content/drive/My Drive/Fall 19/Assignment 1/Pictures/13_pos.tif  \n",
            "  inflating: /content/drive/My Drive/Fall 19/Assignment 1/Pictures/14_pos.tif  \n",
            "  inflating: /content/drive/My Drive/Fall 19/Assignment 1/Pictures/15_neg.tif  \n",
            "  inflating: /content/drive/My Drive/Fall 19/Assignment 1/Pictures/16_neg.tif  \n",
            "  inflating: /content/drive/My Drive/Fall 19/Assignment 1/Pictures/17_neg.tif  \n",
            "  inflating: /content/drive/My Drive/Fall 19/Assignment 1/Pictures/18_pos.tif  \n",
            "  inflating: /content/drive/My Drive/Fall 19/Assignment 1/Pictures/19_pos.tif  \n",
            "  inflating: /content/drive/My Drive/Fall 19/Assignment 1/Pictures/2_neg.tif  \n",
            "  inflating: /content/drive/My Drive/Fall 19/Assignment 1/Pictures/20_neg.tif  \n",
            "  inflating: /content/drive/My Drive/Fall 19/Assignment 1/Pictures/21_pos.tif  \n",
            "  inflating: /content/drive/My Drive/Fall 19/Assignment 1/Pictures/22_pos.tif  \n",
            "  inflating: /content/drive/My Drive/Fall 19/Assignment 1/Pictures/23_neg.tif  \n",
            "  inflating: /content/drive/My Drive/Fall 19/Assignment 1/Pictures/24_neg.tif  \n",
            "  inflating: /content/drive/My Drive/Fall 19/Assignment 1/Pictures/25_pos.tif  \n",
            "  inflating: /content/drive/My Drive/Fall 19/Assignment 1/Pictures/26_neg.tif  \n",
            "  inflating: /content/drive/My Drive/Fall 19/Assignment 1/Pictures/27_pos.tif  \n",
            "  inflating: /content/drive/My Drive/Fall 19/Assignment 1/Pictures/28_neg.tif  \n",
            "  inflating: /content/drive/My Drive/Fall 19/Assignment 1/Pictures/29_pos.tif  \n",
            "  inflating: /content/drive/My Drive/Fall 19/Assignment 1/Pictures/3_pos.tif  \n",
            "  inflating: /content/drive/My Drive/Fall 19/Assignment 1/Pictures/30_pos.tif  \n",
            "  inflating: /content/drive/My Drive/Fall 19/Assignment 1/Pictures/31_neg.tif  \n",
            "  inflating: /content/drive/My Drive/Fall 19/Assignment 1/Pictures/32_pos.tif  \n",
            "  inflating: /content/drive/My Drive/Fall 19/Assignment 1/Pictures/33_pos.tif  \n",
            "  inflating: /content/drive/My Drive/Fall 19/Assignment 1/Pictures/34_pos.tif  \n",
            "  inflating: /content/drive/My Drive/Fall 19/Assignment 1/Pictures/35_pos.tif  \n",
            "  inflating: /content/drive/My Drive/Fall 19/Assignment 1/Pictures/36_pos.tif  \n",
            "  inflating: /content/drive/My Drive/Fall 19/Assignment 1/Pictures/37_pos.tif  \n",
            "  inflating: /content/drive/My Drive/Fall 19/Assignment 1/Pictures/38_pos.tif  \n",
            "  inflating: /content/drive/My Drive/Fall 19/Assignment 1/Pictures/39_pos.tif  \n",
            "  inflating: /content/drive/My Drive/Fall 19/Assignment 1/Pictures/4_pos.tif  \n",
            "  inflating: /content/drive/My Drive/Fall 19/Assignment 1/Pictures/40_pos.tif  \n",
            "  inflating: /content/drive/My Drive/Fall 19/Assignment 1/Pictures/41_neg.tif  \n",
            "  inflating: /content/drive/My Drive/Fall 19/Assignment 1/Pictures/42_pos.tif  \n",
            "  inflating: /content/drive/My Drive/Fall 19/Assignment 1/Pictures/43_pos.tif  \n",
            "  inflating: /content/drive/My Drive/Fall 19/Assignment 1/Pictures/44_pos.tif  \n",
            "  inflating: /content/drive/My Drive/Fall 19/Assignment 1/Pictures/45_pos.tif  \n",
            "  inflating: /content/drive/My Drive/Fall 19/Assignment 1/Pictures/46_neg.tif  \n",
            "  inflating: /content/drive/My Drive/Fall 19/Assignment 1/Pictures/47_pos.tif  \n",
            "  inflating: /content/drive/My Drive/Fall 19/Assignment 1/Pictures/48_pos.tif  \n",
            "  inflating: /content/drive/My Drive/Fall 19/Assignment 1/Pictures/49_pos.tif  \n",
            "  inflating: /content/drive/My Drive/Fall 19/Assignment 1/Pictures/5_pos.tif  \n",
            "  inflating: /content/drive/My Drive/Fall 19/Assignment 1/Pictures/50_pos.tif  \n",
            "  inflating: /content/drive/My Drive/Fall 19/Assignment 1/Pictures/51_pos.tif  \n",
            "  inflating: /content/drive/My Drive/Fall 19/Assignment 1/Pictures/53_neg.tif  \n",
            "  inflating: /content/drive/My Drive/Fall 19/Assignment 1/Pictures/54_neg.tif  \n",
            "  inflating: /content/drive/My Drive/Fall 19/Assignment 1/Pictures/55_pos.tif  \n",
            "  inflating: /content/drive/My Drive/Fall 19/Assignment 1/Pictures/56_neg.tif  \n",
            "  inflating: /content/drive/My Drive/Fall 19/Assignment 1/Pictures/57_neg.tif  \n",
            "  inflating: /content/drive/My Drive/Fall 19/Assignment 1/Pictures/58_neg.tif  \n",
            "  inflating: /content/drive/My Drive/Fall 19/Assignment 1/Pictures/59_neg.tif  \n",
            "  inflating: /content/drive/My Drive/Fall 19/Assignment 1/Pictures/6_pos.tif  \n",
            "  inflating: /content/drive/My Drive/Fall 19/Assignment 1/Pictures/60_pos.tif  \n",
            "  inflating: /content/drive/My Drive/Fall 19/Assignment 1/Pictures/61_pos.tif  \n",
            "  inflating: /content/drive/My Drive/Fall 19/Assignment 1/Pictures/62_neg.tif  \n",
            "  inflating: /content/drive/My Drive/Fall 19/Assignment 1/Pictures/63_pos.tif  \n",
            "  inflating: /content/drive/My Drive/Fall 19/Assignment 1/Pictures/64_neg.tif  \n",
            "  inflating: /content/drive/My Drive/Fall 19/Assignment 1/Pictures/65_neg.tif  \n",
            "  inflating: /content/drive/My Drive/Fall 19/Assignment 1/Pictures/66_neg.tif  \n",
            "  inflating: /content/drive/My Drive/Fall 19/Assignment 1/Pictures/67_neg.tif  \n",
            "  inflating: /content/drive/My Drive/Fall 19/Assignment 1/Pictures/68_neg.tif  \n",
            "  inflating: /content/drive/My Drive/Fall 19/Assignment 1/Pictures/69_neg.tif  \n",
            "  inflating: /content/drive/My Drive/Fall 19/Assignment 1/Pictures/7_pos.tif  \n",
            "  inflating: /content/drive/My Drive/Fall 19/Assignment 1/Pictures/70_neg.tif  \n",
            "  inflating: /content/drive/My Drive/Fall 19/Assignment 1/Pictures/71_neg.tif  \n",
            "  inflating: /content/drive/My Drive/Fall 19/Assignment 1/Pictures/72_neg.tif  \n",
            "  inflating: /content/drive/My Drive/Fall 19/Assignment 1/Pictures/73_neg.tif  \n",
            "  inflating: /content/drive/My Drive/Fall 19/Assignment 1/Pictures/74_neg.tif  \n",
            "  inflating: /content/drive/My Drive/Fall 19/Assignment 1/Pictures/75_neg.tif  \n",
            "  inflating: /content/drive/My Drive/Fall 19/Assignment 1/Pictures/76_neg.tif  \n",
            "  inflating: /content/drive/My Drive/Fall 19/Assignment 1/Pictures/77_neg.tif  \n",
            "  inflating: /content/drive/My Drive/Fall 19/Assignment 1/Pictures/78_neg.tif  \n",
            "  inflating: /content/drive/My Drive/Fall 19/Assignment 1/Pictures/79_neg.tif  \n",
            "  inflating: /content/drive/My Drive/Fall 19/Assignment 1/Pictures/8_pos.tif  \n",
            "  inflating: /content/drive/My Drive/Fall 19/Assignment 1/Pictures/80_pos.tif  \n",
            "  inflating: /content/drive/My Drive/Fall 19/Assignment 1/Pictures/81_pos.tif  \n",
            "  inflating: /content/drive/My Drive/Fall 19/Assignment 1/Pictures/82_neg.tif  \n",
            "  inflating: /content/drive/My Drive/Fall 19/Assignment 1/Pictures/85_neg.tif  \n",
            "  inflating: /content/drive/My Drive/Fall 19/Assignment 1/Pictures/86_pos.tif  \n",
            "  inflating: /content/drive/My Drive/Fall 19/Assignment 1/Pictures/87_neg.tif  \n",
            "  inflating: /content/drive/My Drive/Fall 19/Assignment 1/Pictures/88_neg.tif  \n",
            "  inflating: /content/drive/My Drive/Fall 19/Assignment 1/Pictures/89_pos.tif  \n",
            "  inflating: /content/drive/My Drive/Fall 19/Assignment 1/Pictures/9_neg.tif  \n",
            "  inflating: /content/drive/My Drive/Fall 19/Assignment 1/Pictures/90_pos.tif  \n",
            "  inflating: /content/drive/My Drive/Fall 19/Assignment 1/Pictures/91_neg.tif  \n",
            "  inflating: /content/drive/My Drive/Fall 19/Assignment 1/Pictures/92_neg.tif  \n",
            "  inflating: /content/drive/My Drive/Fall 19/Assignment 1/Pictures/93_neg.tif  \n",
            "  inflating: /content/drive/My Drive/Fall 19/Assignment 1/Pictures/94_neg.tif  \n",
            "  inflating: /content/drive/My Drive/Fall 19/Assignment 1/Pictures/95_neg.tif  \n",
            "  inflating: /content/drive/My Drive/Fall 19/Assignment 1/Pictures/96_neg.tif  \n",
            "  inflating: /content/drive/My Drive/Fall 19/Assignment 1/Pictures/97_pos.tif  \n",
            "  inflating: /content/drive/My Drive/Fall 19/Assignment 1/Pictures/98_neg.tif  \n",
            "  inflating: /content/drive/My Drive/Fall 19/Assignment 1/Pictures/99_neg.tif  \n"
          ],
          "name": "stdout"
        }
      ]
    }
  ]
}